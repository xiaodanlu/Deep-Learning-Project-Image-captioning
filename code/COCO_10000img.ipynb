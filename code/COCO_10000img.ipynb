{
 "cells": [
  {
   "cell_type": "code",
   "execution_count": 10,
   "metadata": {},
   "outputs": [
    {
     "name": "stdout",
     "output_type": "stream",
     "text": [
      "loading annotations into memory...\n",
      "Done (t=19.26s)\n",
      "creating index...\n",
      "index created!\n"
     ]
    }
   ],
   "source": [
    "from pycocotools.coco import COCO\n",
    "import requests\n",
    "import os\n",
    "from tqdm import tqdm\n",
    "\n",
    "dataFrom = 'coco2017'\n",
    "dataType = 'train2017' \n",
    "annFile = f'{dataFrom}/annotations/instances_{dataType}.json'\n",
    "coco = COCO(annFile)\n",
    "\n",
    "# Choose the category ID for 'person'\n",
    "catIds = coco.getCatIds(catNms=['person'])\n",
    "\n",
    "# Get all images from the 'person' category\n",
    "imgIds = coco.getImgIds(catIds=catIds)\n",
    "\n",
    "# To save images\n",
    "image = f'{dataFrom}/{dataType}_images'\n",
    "if not os.path.exists(image):\n",
    "    os.makedirs(image)\n"
   ]
  },
  {
   "cell_type": "code",
   "execution_count": 12,
   "metadata": {},
   "outputs": [
    {
     "name": "stderr",
     "output_type": "stream",
     "text": [
      "100%|██████████| 10000/10000 [31:56<00:00,  5.22it/s] \n"
     ]
    }
   ],
   "source": [
    "def download_image(img_info):\n",
    "    img_url = img_info['coco_url']\n",
    "    img_path = os.path.join(image, img_info['file_name'])\n",
    "\n",
    "    response = requests.get(img_url, stream=True)\n",
    "    if response.status_code == 200:\n",
    "        with open(img_path, 'wb') as f:\n",
    "            f.write(response.content)\n",
    "\n",
    "\n",
    "# Download 10,000 images\n",
    "for img_id in tqdm(imgIds[:10000]):\n",
    "    img_info = coco.loadImgs(img_id)[0]\n",
    "    download_image(img_info)"
   ]
  },
  {
   "cell_type": "code",
   "execution_count": 13,
   "metadata": {},
   "outputs": [],
   "source": [
    "# To save annotations\n",
    "annotations = f'{dataFrom}/{dataType}_annotations'\n",
    "if not os.path.exists(annotations):\n",
    "    os.makedirs(annotations)"
   ]
  },
  {
   "cell_type": "code",
   "execution_count": 14,
   "metadata": {},
   "outputs": [],
   "source": [
    "import json\n",
    "\n",
    "def download_annotations(image_id, save_dir):\n",
    "    annIds = coco.getAnnIds(imgIds=image_id, catIds=catIds, iscrowd=None)\n",
    "    anns = coco.loadAnns(annIds)\n",
    "    \n",
    "    ann_path = os.path.join(save_dir, f\"{image_id}_annotations.json\")\n",
    "    with open(ann_path, 'w') as file:\n",
    "        json.dump(anns, file)\n",
    "\n",
    "# Save the same 10,000 images\n",
    "for img_id in imgIds[:10000]:\n",
    "    download_annotations(img_id, annotations)\n"
   ]
  }
 ],
 "metadata": {
  "kernelspec": {
   "display_name": "ANLY580",
   "language": "python",
   "name": "python3"
  },
  "language_info": {
   "codemirror_mode": {
    "name": "ipython",
    "version": 3
   },
   "file_extension": ".py",
   "mimetype": "text/x-python",
   "name": "python",
   "nbconvert_exporter": "python",
   "pygments_lexer": "ipython3",
   "version": "3.7.16"
  }
 },
 "nbformat": 4,
 "nbformat_minor": 2
}
